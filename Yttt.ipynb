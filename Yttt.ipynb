{
  "nbformat": 4,
  "nbformat_minor": 0,
  "metadata": {
    "colab": {
      "provenance": [],
      "authorship_tag": "ABX9TyOSXF+A2obWxd5QbmtjWOve",
      "include_colab_link": true
    },
    "kernelspec": {
      "name": "python3",
      "display_name": "Python 3"
    },
    "language_info": {
      "name": "python"
    }
  },
  "cells": [
    {
      "cell_type": "markdown",
      "metadata": {
        "id": "view-in-github",
        "colab_type": "text"
      },
      "source": [
        "<a href=\"https://colab.research.google.com/github/eifhwhfi/eifhwhfi/blob/main/Yttt.ipynb\" target=\"_parent\"><img src=\"https://colab.research.google.com/assets/colab-badge.svg\" alt=\"Open In Colab\"/></a>"
      ]
    },
    {
      "cell_type": "code",
      "execution_count": null,
      "metadata": {
        "id": "ZAOU8xBaO4Si",
        "colab": {
          "base_uri": "https://localhost:8080/"
        },
        "outputId": "b17e4ab4-5e2b-4d26-993d-2905ac19f5d6"
      },
      "outputs": [
        {
          "output_type": "stream",
          "name": "stdout",
          "text": [
            "Collecting pytube\n",
            "  Downloading pytube-15.0.0-py3-none-any.whl.metadata (5.0 kB)\n",
            "Downloading pytube-15.0.0-py3-none-any.whl (57 kB)\n",
            "\u001b[?25l   \u001b[90m━━━━━━━━━━━━━━━━━━━━━━━━━━━━━━━━━━━━━━━━\u001b[0m \u001b[32m0.0/57.6 kB\u001b[0m \u001b[31m?\u001b[0m eta \u001b[36m-:--:--\u001b[0m\r\u001b[2K   \u001b[90m━━━━━━━━━━━━━━━━━━━━━━━━━━━━━━━━━━━━━━━━\u001b[0m \u001b[32m57.6/57.6 kB\u001b[0m \u001b[31m1.6 MB/s\u001b[0m eta \u001b[36m0:00:00\u001b[0m\n",
            "\u001b[?25hInstalling collected packages: pytube\n",
            "Successfully installed pytube-15.0.0\n"
          ]
        }
      ],
      "source": [
        "!pip install --upgrade pytube"
      ]
    },
    {
      "cell_type": "code",
      "source": [],
      "metadata": {
        "colab": {
          "base_uri": "https://localhost:8080/",
          "height": 124
        },
        "id": "DSeCsEsdQ8IV",
        "outputId": "092b7fad-ae0e-4581-bb6d-dcfce20344bc"
      },
      "execution_count": null,
      "outputs": [
        {
          "output_type": "error",
          "ename": "SyntaxError",
          "evalue": "unmatched '}' (<ipython-input-4-56c0f6d2d209>, line 20)",
          "traceback": [
            "\u001b[0;36m  File \u001b[0;32m\"<ipython-input-4-56c0f6d2d209>\"\u001b[0;36m, line \u001b[0;32m20\u001b[0m\n\u001b[0;31m    }\u001b[0m\n\u001b[0m    ^\u001b[0m\n\u001b[0;31mSyntaxError\u001b[0m\u001b[0;31m:\u001b[0m unmatched '}'\n"
          ]
        }
      ]
    },
    {
      "cell_type": "code",
      "source": [],
      "metadata": {
        "id": "5kBNz18zPoTS",
        "outputId": "62131525-87b4-4c2c-c198-47dfcb995341",
        "colab": {
          "base_uri": "https://localhost:8080/"
        }
      },
      "execution_count": 9,
      "outputs": [
        {
          "output_type": "stream",
          "name": "stdout",
          "text": [
            "Requirement already satisfied: yt-dlp in /usr/local/lib/python3.10/dist-packages (2024.8.6)\n",
            "Requirement already satisfied: brotli in /usr/local/lib/python3.10/dist-packages (from yt-dlp) (1.1.0)\n",
            "Requirement already satisfied: certifi in /usr/local/lib/python3.10/dist-packages (from yt-dlp) (2024.7.4)\n",
            "Requirement already satisfied: mutagen in /usr/local/lib/python3.10/dist-packages (from yt-dlp) (1.47.0)\n",
            "Requirement already satisfied: pycryptodomex in /usr/local/lib/python3.10/dist-packages (from yt-dlp) (3.20.0)\n",
            "Requirement already satisfied: requests<3,>=2.32.2 in /usr/local/lib/python3.10/dist-packages (from yt-dlp) (2.32.3)\n",
            "Requirement already satisfied: urllib3<3,>=1.26.17 in /usr/local/lib/python3.10/dist-packages (from yt-dlp) (2.0.7)\n",
            "Requirement already satisfied: websockets>=12.0 in /usr/local/lib/python3.10/dist-packages (from yt-dlp) (12.0)\n",
            "Requirement already satisfied: charset-normalizer<4,>=2 in /usr/local/lib/python3.10/dist-packages (from requests<3,>=2.32.2->yt-dlp) (3.3.2)\n",
            "Requirement already satisfied: idna<4,>=2.5 in /usr/local/lib/python3.10/dist-packages (from requests<3,>=2.32.2->yt-dlp) (3.7)\n",
            "Drive already mounted at /content/drive; to attempt to forcibly remount, call drive.mount(\"/content/drive\", force_remount=True).\n",
            "[youtube] Extracting URL: https://youtu.be/ri-Tm3UgzI4?si=CKdxXyYbB0uaCwWw\n",
            "[youtube] ri-Tm3UgzI4: Downloading webpage\n",
            "[youtube] ri-Tm3UgzI4: Downloading ios player API JSON\n",
            "[youtube] ri-Tm3UgzI4: Downloading web creator player API JSON\n",
            "[youtube] ri-Tm3UgzI4: Downloading m3u8 information\n",
            "[info] ri-Tm3UgzI4: Downloading 1 format(s): 251\n",
            "[download] Destination: /content/Qq171201 MAMA mic drop remix 방탄소년단 지민 BTS  JIMIN focus edit.webm\n",
            "[download] 100% of    3.18MiB in 00:00:00 at 9.39MiB/s   \n",
            "Download complete!\n"
          ]
        }
      ]
    },
    {
      "cell_type": "code",
      "source": [
        "import shutil\n",
        "\n",
        "# مسیر فایل منبع\n",
        "source = '/content/Qq240602 Lose My Breath Straykids Felix Fancam 스트레이키즈 필릭스 직캠 (4K).mp4'\n",
        "\n",
        "# مسیر مقصد در گوگل درایو\n",
        "destination = '/content/drive/MyDrive'\n",
        "\n",
        "# انتقال فایل به گوگل درایو\n",
        "shutil.move(source, destination)\n",
        "\n",
        "print(\"File has been moved to Google Drive successfully!\")"
      ],
      "metadata": {
        "colab": {
          "base_uri": "https://localhost:8080/"
        },
        "id": "i2SDRMojYYFF",
        "outputId": "be39b6a2-7a88-4756-f7e2-289361cfc9b9"
      },
      "execution_count": 18,
      "outputs": [
        {
          "output_type": "stream",
          "name": "stdout",
          "text": [
            "File has been moved to Google Drive successfully!\n"
          ]
        }
      ]
    },
    {
      "cell_type": "code",
      "source": [
        "# نصب yt-dlp\n",
        "!pip install yt-dlp\n",
        "\n",
        "import yt_dlp\n",
        "\n",
        "# لینک یوتیوب\n",
        "youtube_url = 'https://youtu.be/7B4rJd9_mw0?si=hEEmDws4tyJNAPL6'  # لینک ویدیو یوتیوب\n",
        "\n",
        "# تعریف تابع برای استخراج اطلاعات ویدیو و فریم ریت\n",
        "def get_max_frame_rate(youtube_url):\n",
        "    ydl_opts = {\n",
        "        'skip_download': True,  # از دانلود ویدیو جلوگیری می‌کند، فقط اطلاعات استخراج می‌شود\n",
        "    }\n",
        "\n",
        "    with yt_dlp.YoutubeDL(ydl_opts) as ydl:\n",
        "        # استخراج اطلاعات ویدیو\n",
        "        info = ydl.extract_info(youtube_url, download=False)\n",
        "\n",
        "        # جستجوی بالاترین فریم ریت\n",
        "        max_frame_rate = 0\n",
        "        for format in info['formats']:\n",
        "            fps = format.get('fps')\n",
        "            if fps is not None and fps > max_frame_rate:\n",
        "                max_frame_rate = fps\n",
        "\n",
        "        return max_frame_rate\n",
        "\n",
        "# استفاده از تابع برای بررسی فریم ریت ویدیو\n",
        "max_fps = get_max_frame_rate(youtube_url)\n",
        "print(f\"The highest frame rate available for this video is: {max_fps} FPS\")"
      ],
      "metadata": {
        "colab": {
          "base_uri": "https://localhost:8080/"
        },
        "id": "p_ZqB22faDvd",
        "outputId": "71736e7d-6580-45fc-e695-f0db1e8e2ea9"
      },
      "execution_count": 14,
      "outputs": [
        {
          "output_type": "stream",
          "name": "stdout",
          "text": [
            "Requirement already satisfied: yt-dlp in /usr/local/lib/python3.10/dist-packages (2024.8.6)\n",
            "Requirement already satisfied: brotli in /usr/local/lib/python3.10/dist-packages (from yt-dlp) (1.1.0)\n",
            "Requirement already satisfied: certifi in /usr/local/lib/python3.10/dist-packages (from yt-dlp) (2024.7.4)\n",
            "Requirement already satisfied: mutagen in /usr/local/lib/python3.10/dist-packages (from yt-dlp) (1.47.0)\n",
            "Requirement already satisfied: pycryptodomex in /usr/local/lib/python3.10/dist-packages (from yt-dlp) (3.20.0)\n",
            "Requirement already satisfied: requests<3,>=2.32.2 in /usr/local/lib/python3.10/dist-packages (from yt-dlp) (2.32.3)\n",
            "Requirement already satisfied: urllib3<3,>=1.26.17 in /usr/local/lib/python3.10/dist-packages (from yt-dlp) (2.0.7)\n",
            "Requirement already satisfied: websockets>=12.0 in /usr/local/lib/python3.10/dist-packages (from yt-dlp) (12.0)\n",
            "Requirement already satisfied: charset-normalizer<4,>=2 in /usr/local/lib/python3.10/dist-packages (from requests<3,>=2.32.2->yt-dlp) (3.3.2)\n",
            "Requirement already satisfied: idna<4,>=2.5 in /usr/local/lib/python3.10/dist-packages (from requests<3,>=2.32.2->yt-dlp) (3.7)\n",
            "[youtube] Extracting URL: https://youtu.be/7B4rJd9_mw0?si=hEEmDws4tyJNAPL6\n",
            "[youtube] 7B4rJd9_mw0: Downloading webpage\n",
            "[youtube] 7B4rJd9_mw0: Downloading ios player API JSON\n",
            "[youtube] 7B4rJd9_mw0: Downloading web creator player API JSON\n",
            "[youtube] 7B4rJd9_mw0: Downloading m3u8 information\n",
            "The highest frame rate available for this video is: 30.0 FPS\n"
          ]
        }
      ]
    },
    {
      "cell_type": "code",
      "source": [
        "# نصب yt-dlp\n",
        "!pip install yt-dlp\n",
        "\n",
        "# نصب کتابخانه برای آپلود درایو\n",
        "from google.colab import drive\n",
        "drive.mount('/content/drive')\n",
        "\n",
        "import yt_dlp\n",
        "\n",
        "# لیست لینک‌های یوتیوب\n",
        "youtube_urls = [\n",
        "    'https://www.youtube.com/watch?v=VuCtKdr3z1M',\n",
        "    'https://youtu.be/7B4rJd9_mw0?si=hEEmDws4tyJNAPL6',\n",
        "    'https://youtu.be/pkw4gF1lsfo?si=qKlDsMsmzhKzHFji',\n",
        "    # تا دوازده لینک می‌توانید اضافه کنید\n",
        "]\n",
        "\n",
        "# مسیر نهایی در گوگل درایو\n",
        "final_output_path = '/content/Qq'\n",
        "\n",
        "# تابع برای پیدا کردن و دانلود ویدیو با توجه به فریم ریت\n",
        "def download_video_with_fps(url):\n",
        "    with yt_dlp.YoutubeDL({'skip_download': True}) as ydl:\n",
        "        info = ydl.extract_info(url, download=False)\n",
        "\n",
        "        # جستجوی فرمت‌های در دسترس\n",
        "        format_60fps = None\n",
        "        format_30fps = None\n",
        "\n",
        "        for f in info['formats']:\n",
        "            if f.get('fps') == 60 and f.get('height') <= 1440:\n",
        "                format_60fps = f['format_id']\n",
        "            elif f.get('fps') == 30 and f.get('height') <= 1440:\n",
        "                format_30fps = f['format_id']\n",
        "\n",
        "        # انتخاب فرمت\n",
        "        chosen_format = format_60fps if format_60fps else format_30fps\n",
        "\n",
        "        ydl_opts = {\n",
        "            'format': chosen_format + '+bestaudio',\n",
        "            'merge_output_format': 'mp4',\n",
        "            'outtmpl': final_output_path + '%(title)s.%(ext)s',\n",
        "        }\n",
        "\n",
        "        # دانلود ویدیو با فرمت انتخابی\n",
        "        with yt_dlp.YoutubeDL(ydl_opts) as ydl:\n",
        "            ydl.download([url])\n",
        "\n",
        "        print(f\"Video from {url} has been downloaded and saved to Google Drive.\")\n",
        "\n",
        "# دانلود تمام ویدیوهای موجود در لیست\n",
        "for url in youtube_urls:\n",
        "    download_video_with_fps(url)\n",
        "\n",
        "print(\"All videos have been downloaded and saved to Google Drive!\")"
      ],
      "metadata": {
        "colab": {
          "base_uri": "https://localhost:8080/"
        },
        "id": "XC2_U1Zrbs58",
        "outputId": "a004c0e2-6c81-42f6-ec8d-7a3a26f71edf"
      },
      "execution_count": 17,
      "outputs": [
        {
          "output_type": "stream",
          "name": "stdout",
          "text": [
            "Requirement already satisfied: yt-dlp in /usr/local/lib/python3.10/dist-packages (2024.8.6)\n",
            "Requirement already satisfied: brotli in /usr/local/lib/python3.10/dist-packages (from yt-dlp) (1.1.0)\n",
            "Requirement already satisfied: certifi in /usr/local/lib/python3.10/dist-packages (from yt-dlp) (2024.7.4)\n",
            "Requirement already satisfied: mutagen in /usr/local/lib/python3.10/dist-packages (from yt-dlp) (1.47.0)\n",
            "Requirement already satisfied: pycryptodomex in /usr/local/lib/python3.10/dist-packages (from yt-dlp) (3.20.0)\n",
            "Requirement already satisfied: requests<3,>=2.32.2 in /usr/local/lib/python3.10/dist-packages (from yt-dlp) (2.32.3)\n",
            "Requirement already satisfied: urllib3<3,>=1.26.17 in /usr/local/lib/python3.10/dist-packages (from yt-dlp) (2.0.7)\n",
            "Requirement already satisfied: websockets>=12.0 in /usr/local/lib/python3.10/dist-packages (from yt-dlp) (12.0)\n",
            "Requirement already satisfied: charset-normalizer<4,>=2 in /usr/local/lib/python3.10/dist-packages (from requests<3,>=2.32.2->yt-dlp) (3.3.2)\n",
            "Requirement already satisfied: idna<4,>=2.5 in /usr/local/lib/python3.10/dist-packages (from requests<3,>=2.32.2->yt-dlp) (3.7)\n",
            "Drive already mounted at /content/drive; to attempt to forcibly remount, call drive.mount(\"/content/drive\", force_remount=True).\n",
            "[youtube] Extracting URL: https://www.youtube.com/watch?v=VuCtKdr3z1M\n",
            "[youtube] VuCtKdr3z1M: Downloading webpage\n",
            "[youtube] VuCtKdr3z1M: Downloading ios player API JSON\n",
            "[youtube] VuCtKdr3z1M: Downloading web creator player API JSON\n",
            "[youtube] VuCtKdr3z1M: Downloading m3u8 information\n",
            "[youtube] Extracting URL: https://www.youtube.com/watch?v=VuCtKdr3z1M\n",
            "[youtube] VuCtKdr3z1M: Downloading webpage\n",
            "[youtube] VuCtKdr3z1M: Downloading ios player API JSON\n",
            "[youtube] VuCtKdr3z1M: Downloading web creator player API JSON\n",
            "[youtube] VuCtKdr3z1M: Downloading m3u8 information\n",
            "[info] VuCtKdr3z1M: Downloading 1 format(s): 616+251\n",
            "[hlsnative] Downloading m3u8 manifest\n",
            "[hlsnative] Total fragments: 279\n",
            "[download] Destination: /content/Qqعجیب‌ترین اصطلاحات ایرانی با مجازات تندترین سس دنیا!!!.f616.mp4\n",
            "[download] 100% of  356.45MiB in 00:00:23 at 15.01MiB/s                  \n",
            "[download] Destination: /content/Qqعجیب‌ترین اصطلاحات ایرانی با مجازات تندترین سس دنیا!!!.f251.webm\n",
            "[download] 100% of   20.15MiB in 00:00:00 at 41.86MiB/s  \n",
            "[Merger] Merging formats into \"/content/Qqعجیب‌ترین اصطلاحات ایرانی با مجازات تندترین سس دنیا!!!.mp4\"\n",
            "Deleting original file /content/Qqعجیب‌ترین اصطلاحات ایرانی با مجازات تندترین سس دنیا!!!.f616.mp4 (pass -k to keep)\n",
            "Deleting original file /content/Qqعجیب‌ترین اصطلاحات ایرانی با مجازات تندترین سس دنیا!!!.f251.webm (pass -k to keep)\n",
            "Video from https://www.youtube.com/watch?v=VuCtKdr3z1M has been downloaded and saved to Google Drive.\n",
            "[youtube] Extracting URL: https://youtu.be/7B4rJd9_mw0?si=hEEmDws4tyJNAPL6\n",
            "[youtube] 7B4rJd9_mw0: Downloading webpage\n",
            "[youtube] 7B4rJd9_mw0: Downloading ios player API JSON\n",
            "[youtube] 7B4rJd9_mw0: Downloading web creator player API JSON\n",
            "[youtube] 7B4rJd9_mw0: Downloading m3u8 information\n",
            "[youtube] Extracting URL: https://youtu.be/7B4rJd9_mw0?si=hEEmDws4tyJNAPL6\n",
            "[youtube] 7B4rJd9_mw0: Downloading webpage\n",
            "[youtube] 7B4rJd9_mw0: Downloading ios player API JSON\n",
            "[youtube] 7B4rJd9_mw0: Downloading web creator player API JSON\n",
            "[youtube] 7B4rJd9_mw0: Downloading m3u8 information\n",
            "[info] 7B4rJd9_mw0: Downloading 1 format(s): 271+251\n",
            "[download] Destination: /content/QqSamsung Galaxy S24 Ultra 4K 120 FPS Video Test： Original, No Edits #samsung Mannheim.f271.webm\n",
            "[download] 100% of   77.47MiB in 00:00:05 at 13.25MiB/s  \n",
            "[download] Destination: /content/QqSamsung Galaxy S24 Ultra 4K 120 FPS Video Test： Original, No Edits #samsung Mannheim.f251.webm\n",
            "[download] 100% of    1.57MiB in 00:00:00 at 4.47MiB/s   \n",
            "[Merger] Merging formats into \"/content/QqSamsung Galaxy S24 Ultra 4K 120 FPS Video Test： Original, No Edits #samsung Mannheim.mp4\"\n",
            "Deleting original file /content/QqSamsung Galaxy S24 Ultra 4K 120 FPS Video Test： Original, No Edits #samsung Mannheim.f251.webm (pass -k to keep)\n",
            "Deleting original file /content/QqSamsung Galaxy S24 Ultra 4K 120 FPS Video Test： Original, No Edits #samsung Mannheim.f271.webm (pass -k to keep)\n",
            "Video from https://youtu.be/7B4rJd9_mw0?si=hEEmDws4tyJNAPL6 has been downloaded and saved to Google Drive.\n",
            "[youtube] Extracting URL: https://youtu.be/pkw4gF1lsfo?si=qKlDsMsmzhKzHFji\n",
            "[youtube] pkw4gF1lsfo: Downloading webpage\n",
            "[youtube] pkw4gF1lsfo: Downloading ios player API JSON\n",
            "[youtube] pkw4gF1lsfo: Downloading web creator player API JSON\n",
            "[youtube] pkw4gF1lsfo: Downloading m3u8 information\n",
            "[youtube] Extracting URL: https://youtu.be/pkw4gF1lsfo?si=qKlDsMsmzhKzHFji\n",
            "[youtube] pkw4gF1lsfo: Downloading webpage\n",
            "[youtube] pkw4gF1lsfo: Downloading ios player API JSON\n",
            "[youtube] pkw4gF1lsfo: Downloading web creator player API JSON\n",
            "[youtube] pkw4gF1lsfo: Downloading m3u8 information\n",
            "[info] pkw4gF1lsfo: Downloading 1 format(s): 308+251\n",
            "[download] /content/Qq240602 Lose My Breath Straykids Felix Fancam 스트레이키즈 필릭스 직캠 (4K).mp4 has already been downloaded\n",
            "Video from https://youtu.be/pkw4gF1lsfo?si=qKlDsMsmzhKzHFji has been downloaded and saved to Google Drive.\n",
            "All videos have been downloaded and saved to Google Drive!\n"
          ]
        }
      ]
    }
  ]
}